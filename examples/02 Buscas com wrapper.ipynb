{
 "cells": [
  {
   "cell_type": "markdown",
   "id": "5fc0f9e1",
   "metadata": {},
   "source": [
    "### References\n",
    "\n",
    "- [jupyter ES](https://medium.com/threat-hunters-forge/jupyter-notebooks-from-sigma-rules-%EF%B8%8F-to-query-elasticsearch-31a74cc59b99)\n",
    "- [Query types](https://www.elastic.co/guide/en/elasticsearch/reference/current/query-dsl.html)"
   ]
  },
  {
   "cell_type": "code",
   "execution_count": null,
   "id": "6f06e62e",
   "metadata": {},
   "outputs": [],
   "source": [
    "import os\n",
    "import sys\n",
    "import pandas as pd"
   ]
  },
  {
   "cell_type": "code",
   "execution_count": null,
   "id": "4ada1ebe",
   "metadata": {},
   "outputs": [],
   "source": [
    "# load custom modules\n",
    "module_path = os.path.abspath(os.path.join('..'))\n",
    "if module_path not in sys.path:\n",
    "    sys.path.append(module_path)"
   ]
  },
  {
   "cell_type": "code",
   "execution_count": null,
   "id": "f5d57a5b",
   "metadata": {},
   "outputs": [],
   "source": [
    "# import custom modules\n",
    "from pilotoeducacao import search"
   ]
  },
  {
   "cell_type": "code",
   "execution_count": null,
   "id": "9a27ecd1",
   "metadata": {},
   "outputs": [],
   "source": [
    "es_host = 'http://localhost:9200'\n",
    "index_name = 'queridodiario2'"
   ]
  },
  {
   "cell_type": "code",
   "execution_count": null,
   "id": "94a1780f",
   "metadata": {},
   "outputs": [],
   "source": [
    "search_client = search.create_search_client(es_host, index_name)"
   ]
  },
  {
   "cell_type": "code",
   "execution_count": null,
   "id": "723f369b",
   "metadata": {},
   "outputs": [],
   "source": [
    "ids = search_client.search(search.RegexQueryFactory(pattern = 'compra|aquisiç|conv\\wnio'), size_pg=3).ids()"
   ]
  },
  {
   "cell_type": "code",
   "execution_count": null,
   "id": "d1b0c8f7",
   "metadata": {},
   "outputs": [],
   "source": [
    "search_client.search(search.SimpleQueryFactory(term = 'Lei 8.666/93'), filter_ids=ids).show()"
   ]
  },
  {
   "cell_type": "code",
   "execution_count": null,
   "id": "371910f7",
   "metadata": {},
   "outputs": [],
   "source": [
    "search_client.search(search.SimpleQueryFactory(term = 'Lei 8.666/93'), size_pg=50).show()"
   ]
  },
  {
   "cell_type": "code",
   "execution_count": null,
   "id": "6b382457",
   "metadata": {},
   "outputs": [],
   "source": [
    "search_client.search(search.MatchPhraseQueryFactory(term = 'PBLE'), size_pg=50).show()"
   ]
  },
  {
   "cell_type": "code",
   "execution_count": null,
   "id": "1780ccc9",
   "metadata": {},
   "outputs": [],
   "source": [
    "search_client.search(search.RegexQueryFactory(pattern = 'compra|aquisiç|conv\\wnio'), size_pg=50).show()"
   ]
  },
  {
   "cell_type": "code",
   "execution_count": null,
   "id": "4bacf508",
   "metadata": {},
   "outputs": [],
   "source": [
    "search_client.search(search.RegexQueryFactory(pattern = '(carta.+convite)|concorr\\wncia|leil\\wo'), size_pg=50).show()"
   ]
  },
  {
   "cell_type": "code",
   "execution_count": null,
   "id": "91955bb2",
   "metadata": {},
   "outputs": [],
   "source": [
    "search_client.search(search.FuzzyQueryFactory(term = 'carda convite'), size_pg=50).show()"
   ]
  }
 ],
 "metadata": {
  "kernelspec": {
   "display_name": "Python 3 (ipykernel)",
   "language": "python",
   "name": "python3"
  },
  "language_info": {
   "codemirror_mode": {
    "name": "ipython",
    "version": 3
   },
   "file_extension": ".py",
   "mimetype": "text/x-python",
   "name": "python",
   "nbconvert_exporter": "python",
   "pygments_lexer": "ipython3",
   "version": "3.7.9"
  }
 },
 "nbformat": 4,
 "nbformat_minor": 5
}
