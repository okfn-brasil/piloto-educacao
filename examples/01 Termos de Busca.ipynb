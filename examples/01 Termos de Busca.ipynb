{
 "cells": [
  {
   "cell_type": "markdown",
   "id": "d471b790-d239-4420-aed9-73e41923c7dc",
   "metadata": {},
   "source": [
    "## Notebook 01: Verificação de Termos de Busca\n",
    "O primeiro notebook do projeto piloto entre a Open Knowledge Foundation Brasil e a Aliança (Fundação Lemann + Imaginable Futures) carrega os termos de busca adicionados por todas as pessoas vinculadas ao projeto na planilha de _queries_.\n",
    "\n",
    "As equipes participantes do projeto acordaram esses termos na primeira oficina do projeto e refinaram os termos ao longo das 5 (cinco) semanas do projeto. Para reproduzir o trabalho neste  notebook, é necessário:\n",
    "\n",
    "1. Criar um ambiente virtual (_virtual environment_) do Python com os pacotes necessários para a instalação do pacote `pilotoeducacao`;\n",
    "\n",
    "2. Autenticar o acesso ao Google Sheets via API, cujas instruções estão [aqui](https://developers.google.com/workspace/guides/create-credentials#create_a_service_account), a partir do título **Create a Service Account**;\n",
    "\n",
    "3. Utilizar suas credenciais para retornar as queries que estão no Google Sheets."
   ]
  },
  {
   "cell_type": "markdown",
   "id": "cf2311dd-e2b9-4291-a70c-c3bbeea3ad0b",
   "metadata": {},
   "source": [
    "### Passos\n",
    "O primeiro passo é a importação dos pacotes necessários para a análise."
   ]
  },
  {
   "cell_type": "code",
   "execution_count": null,
   "id": "fd793f8a-5d78-4e7b-9b1e-f29531d8cb3d",
   "metadata": {},
   "outputs": [],
   "source": [
    "import os, sys\n",
    "from pathlib import Path\n",
    "\n",
    "# load custom modules\n",
    "module_path = os.path.abspath(os.path.join('..'))\n",
    "if module_path not in sys.path:\n",
    "    sys.path.append(module_path)\n",
    "    \n",
    "import pilotoeducacao\n",
    "\n",
    "import pandas as pd\n",
    "\n",
    "# definir root como path\n",
    "ROOT = Path().resolve().parent\n",
    "DATA = ROOT / 'data'"
   ]
  },
  {
   "cell_type": "markdown",
   "id": "e44c9e42-9d8f-40d5-a598-423a93aeb576",
   "metadata": {},
   "source": [
    "Depois, necessitamos buscar e organizar os termos de busca que estão em planilha compartilhada do Google."
   ]
  },
  {
   "cell_type": "code",
   "execution_count": null,
   "id": "80f97222-b659-4c78-86e9-d1da006a203f",
   "metadata": {},
   "outputs": [],
   "source": [
    "creds = ROOT / 'tests/data/YOUR_CREDENTIALS.json'    \n",
    "queries = pilotoeducacao.get_queries(str(creds))\n",
    "dt = pd.DataFrame(queries)\n",
    "dt.head(10)"
   ]
  },
  {
   "cell_type": "markdown",
   "id": "de67a795-d7bf-405e-94b8-9249a0be2b34",
   "metadata": {
    "tags": []
   },
   "source": [
    "Por fim, temos de salvar a planilha de _queries_ para uso nas buscas. Primeiro, nós verificamos se a planilha ainda não foi salva anteriormente; se foi, comparamos com os resultados acima para verificar se há novas queries. Caso não haja planilha anterior ou os dados não tenham sido atualizados, o notebook finaliza a execução sem mudança."
   ]
  },
  {
   "cell_type": "code",
   "execution_count": null,
   "id": "a6aa82bc-3019-4523-bc27-39854906c4f2",
   "metadata": {},
   "outputs": [],
   "source": [
    "# definir path para queries\n",
    "queries_file = DATA / 'queries.csv'\n",
    "\n",
    "if os.path.exists(queries_file):\n",
    "    old_queries = pd.read_csv(queries_file)\n",
    "    if not old_queries.equals(dt):\n",
    "         dt.to_csv(queries_file, index=False)\n",
    "\n",
    "else: \n",
    "    dt.to_csv(queries_file, index=False)"
   ]
  },
  {
   "cell_type": "markdown",
   "id": "ae5c1348-b36c-4362-bb91-185de68d53bf",
   "metadata": {},
   "source": [
    "### Conclusão"
   ]
  },
  {
   "cell_type": "markdown",
   "id": "ef7d7e22-d8ef-4266-abff-6c34bc0a8b87",
   "metadata": {},
   "source": [
    "Embora esse notebook seja parte do trabalho, ele não é necessário para as outras etapas da análise. Ele existe para fins de reproducibilidade do projeto."
   ]
  }
 ],
 "metadata": {
  "kernelspec": {
   "display_name": "Python 3 (ipykernel)",
   "language": "python",
   "name": "python3"
  },
  "language_info": {
   "codemirror_mode": {
    "name": "ipython",
    "version": 3
   },
   "file_extension": ".py",
   "mimetype": "text/x-python",
   "name": "python",
   "nbconvert_exporter": "python",
   "pygments_lexer": "ipython3",
   "version": "3.7.9"
  }
 },
 "nbformat": 4,
 "nbformat_minor": 5
}
